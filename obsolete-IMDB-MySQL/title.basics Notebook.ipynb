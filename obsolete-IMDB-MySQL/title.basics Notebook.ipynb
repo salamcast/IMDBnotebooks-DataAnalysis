{
 "cells": [
  {
   "cell_type": "markdown",
   "id": "fc8671d8",
   "metadata": {},
   "source": [
    "## title.basics.tsv.gz \n",
    "\n",
    "https://datasets.imdbws.com/title.basics.tsv.gz\n",
    "\n",
    "Contains the following information for titles:\n",
    "\n",
    "* tconst (string) - alphanumeric unique identifier of the title\n",
    "* titleType (string) – the type/format of the title (e.g. movie, short, tvseries, tvepisode, video, etc)\n",
    "* primaryTitle (string) – the more popular title / the title used by the filmmakers on promotional materials at the point of release\n",
    "* originalTitle (string) - original title, in the original language\n",
    "* isAdult (boolean) - 0: non-adult title; 1: adult title\n",
    "* startYear (YYYY) – represents the release year of a title. In the case of TV Series, it is the series start year\n",
    "* endYear (YYYY) – TV Series end year. ‘\\N’ for all other title types\n",
    "* runtimeMinutes – primary runtime of the title, in minutes\n",
    "* genres (string array) – includes up to three genres associated with the title\n",
    "```\n",
    "CREATE TABLE IF NOT EXISTS `title.basics` (\n",
    "  `tconst` varchar(12) NOT NULL,\n",
    "  `titleType` varchar(15) NOT NULL,\n",
    "  `primaryTitle` text NOT NULL,\n",
    "  `originalTitle` text ,\n",
    "  `isAdult` tinyint(1) DEFAULT '0',\n",
    "  `startYear` varchar(4)  DEFAULT NULL,\n",
    "  `endYear` varchar(4) DEFAULT '\\\\N',\n",
    "  `runtimeMinutes` int(11) DEFAULT '0',\n",
    "  `genres` varchar(128) \n",
    ") ENGINE=InnoDB DEFAULT CHARSET=utf8;\n",
    "```\n",
    "#### import the title.basics.tsv file\n",
    "```\n",
    "load data infile '/export/title.basics.tsv' \n",
    "    into table `title.basics` \n",
    "    fields terminated by '\\t' \n",
    "    lines terminated by '\\n' \n",
    "    ignore 1 rows;\n",
    "```\n",
    "* Query OK, 8273735 rows affected (2 min 10.178 sec)   \n",
    "* Records: 8273735  Deleted: 0  Skipped: 0  Warnings: 0\n",
    "\n",
    "#### list of uniq types\n",
    "```\n",
    " cat title.basics.tsv | cut -f2 | sort | uniq\n",
    "```\n",
    "* movie\n",
    "* radioEpisode\n",
    "* radioSeries\n",
    "* short\n",
    "* titleType\n",
    "* tvEpisode\n",
    "* tvMiniSeries\n",
    "* tvMovie\n",
    "* tvPilot\n",
    "* tvSeries\n",
    "* tvShort\n",
    "* tvSpecial\n",
    "* video\n",
    "* videoGame"
   ]
  },
  {
   "cell_type": "code",
   "execution_count": 3,
   "id": "4f0b795a",
   "metadata": {},
   "outputs": [],
   "source": [
    "import IMDBmedia as IM\n",
    "\n",
    "IM.imdb['host'] = \"localhost\"\n",
    "IM.imdb['user'] = \"root\"\n",
    "IM.imdb['pass'] = \"root\"\n",
    "IM.imdb['dbname'] = \"IMDBmedia\""
   ]
  },
  {
   "cell_type": "markdown",
   "id": "a07592fa",
   "metadata": {},
   "source": [
    "# Examples of queries\n",
    "\n",
    "some queries are going to be slow on most older hardware because of how large the data is.  some have crashed in phpmyadmin or take a few minutes in the mysql shell.\n",
    "\n",
    "## Search for movie\n",
    "\n",
    "for searching movies the **titleType** is in the MediaType drop down box\n",
    "\n",
    "#### Fields\n",
    "* tconst, titleType, primaryTitle, originalTitle, isAdult, startYear, endYear, runtimeMinutes, genres "
   ]
  },
  {
   "cell_type": "code",
   "execution_count": 4,
   "id": "8c20236a",
   "metadata": {},
   "outputs": [
    {
     "name": "stdout",
     "output_type": "stream",
     "text": [
      "Search for Movies and Videos, filter by Type:\n"
     ]
    },
    {
     "data": {
      "application/vnd.jupyter.widget-view+json": {
       "model_id": "6ec63f3a3f23450c9a16464b3f81d5dd",
       "version_major": 2,
       "version_minor": 0
      },
      "text/plain": [
       "interactive(children=(Text(value='Star Wars%', description='name'), Dropdown(description='MediaType', options=…"
      ]
     },
     "metadata": {},
     "output_type": "display_data"
    }
   ],
   "source": [
    "\n",
    "print (\"Search for Movies and Videos, filter by Type:\")\n",
    "interact_manual(IM.search_title_basics_type, name='Star Wars%', MediaType=IM.MediaType('ALL'), output=True);\n"
   ]
  },
  {
   "cell_type": "markdown",
   "id": "d34249c4",
   "metadata": {},
   "source": [
    "### Search for a Movie and it's Year\n",
    "\n",
    "Test this out to see your results\n",
    "\n",
    "#### Search tests:\n",
    "\n",
    "* **name** = Star Wars%, **year** = 1977\n",
    "* **name** = Star Wars%, **year** = 2005\n",
    "* **name** = Star Wars%Sith, **year** = 2005\n",
    "\n",
    "#### Notes:\n",
    "if you want to get only one row, then you'll need to set your search terms to get the best match, my examples above will show you what will be pulled from the db."
   ]
  },
  {
   "cell_type": "code",
   "execution_count": 5,
   "id": "4bcdb1ff",
   "metadata": {},
   "outputs": [
    {
     "name": "stdout",
     "output_type": "stream",
     "text": [
      "Search for Movies with year:\n"
     ]
    },
    {
     "data": {
      "application/vnd.jupyter.widget-view+json": {
       "model_id": "3fc39fc9e29441cb8236964f9978c1d0",
       "version_major": 2,
       "version_minor": 0
      },
      "text/plain": [
       "interactive(children=(Text(value='Star Wars%', description='name'), IntSlider(value=1977, description='year', …"
      ]
     },
     "metadata": {},
     "output_type": "display_data"
    }
   ],
   "source": [
    "\n",
    "\n",
    "print (\"Search for Movies with year:\")\n",
    "interact_manual(IM.search_movie_year, name='Star Wars%', year=widgets.IntSlider(min=1900, max=2022, step=1, value=1977), MediaType=[\"movie\", \"short\", \"video\", \"titleType\", \"tvMovie\", \"tvPilot\", \"tvShort\", \"tvSpecial\" ], output=True);"
   ]
  },
  {
   "cell_type": "markdown",
   "id": "106a8165",
   "metadata": {},
   "source": [
    "## Search for TV Show\n",
    "\n",
    "#### Fields\n",
    "* tconst, titleType, primaryTitle, originalTitle, isAdult, startYear, endYear, runtimeMinutes, genres \n",
    "\n",
    "### Just the name and MediaType.\n",
    "\n",
    "this will give you a list of different Series based on the Media Type, use this to find the year of the show you're searching for"
   ]
  },
  {
   "cell_type": "code",
   "execution_count": 6,
   "id": "03304d1b",
   "metadata": {},
   "outputs": [
    {
     "name": "stdout",
     "output_type": "stream",
     "text": [
      "Search for TV Shows:\n",
      "\n"
     ]
    },
    {
     "ename": "NameError",
     "evalue": "name 'search_title_basics' is not defined",
     "output_type": "error",
     "traceback": [
      "\u001b[0;31m---------------------------------------------------------------------------\u001b[0m",
      "\u001b[0;31mNameError\u001b[0m                                 Traceback (most recent call last)",
      "\u001b[0;32m/tmp/ipykernel_460374/645207415.py\u001b[0m in \u001b[0;36m<module>\u001b[0;34m\u001b[0m\n\u001b[1;32m      1\u001b[0m \u001b[0mprint\u001b[0m \u001b[0;34m(\u001b[0m\u001b[0;34m\"Search for TV Shows:\\n\"\u001b[0m\u001b[0;34m)\u001b[0m\u001b[0;34m\u001b[0m\u001b[0;34m\u001b[0m\u001b[0m\n\u001b[0;32m----> 2\u001b[0;31m \u001b[0minteract_manual\u001b[0m\u001b[0;34m(\u001b[0m\u001b[0msearch_title_basics\u001b[0m\u001b[0;34m,\u001b[0m \u001b[0mname\u001b[0m\u001b[0;34m=\u001b[0m\u001b[0;34m'Star Wars%'\u001b[0m\u001b[0;34m,\u001b[0m \u001b[0mMediaType\u001b[0m\u001b[0;34m=\u001b[0m\u001b[0;34m[\u001b[0m \u001b[0;34m\"tvSeries\"\u001b[0m\u001b[0;34m,\u001b[0m \u001b[0;34m\"tvMiniSeries\"\u001b[0m\u001b[0;34m,\u001b[0m \u001b[0;34m\"radioSeries\"\u001b[0m \u001b[0;34m]\u001b[0m\u001b[0;34m,\u001b[0m \u001b[0moutput\u001b[0m\u001b[0;34m=\u001b[0m\u001b[0;32mTrue\u001b[0m\u001b[0;34m)\u001b[0m\u001b[0;34m;\u001b[0m\u001b[0;34m\u001b[0m\u001b[0;34m\u001b[0m\u001b[0m\n\u001b[0m\u001b[1;32m      3\u001b[0m \u001b[0;34m\u001b[0m\u001b[0m\n",
      "\u001b[0;31mNameError\u001b[0m: name 'search_title_basics' is not defined"
     ]
    }
   ],
   "source": [
    "print (\"Search for TV Shows:\\n\")\n",
    "interact_manual(IM.search_title_basics, name='Star Wars%', MediaType=IM.MediaType('series'), output=True);\n",
    "\n"
   ]
  },
  {
   "cell_type": "code",
   "execution_count": null,
   "id": "c2b6515b",
   "metadata": {},
   "outputs": [],
   "source": []
  }
 ],
 "metadata": {
  "kernelspec": {
   "display_name": "Python 3 (ipykernel)",
   "language": "python",
   "name": "python3"
  },
  "language_info": {
   "codemirror_mode": {
    "name": "ipython",
    "version": 3
   },
   "file_extension": ".py",
   "mimetype": "text/x-python",
   "name": "python",
   "nbconvert_exporter": "python",
   "pygments_lexer": "ipython3",
   "version": "3.9.7"
  }
 },
 "nbformat": 4,
 "nbformat_minor": 5
}
