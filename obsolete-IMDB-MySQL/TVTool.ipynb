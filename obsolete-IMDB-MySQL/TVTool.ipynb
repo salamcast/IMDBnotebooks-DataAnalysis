{
 "cells": [
  {
   "cell_type": "code",
   "execution_count": 7,
   "id": "ff7d3e59-c73d-4a09-837b-08025d377d4b",
   "metadata": {},
   "outputs": [],
   "source": [
    "import pandas as pd\n",
    "# widgets\n",
    "from ipywidgets import interact, interactive, fixed, interact_manual\n",
    "import ipywidgets as widgets\n",
    "\n",
    "import filesTool as ft\n",
    "import IMDBmedia as IM\n",
    "\n",
    "IM.imdb['host'] = \"localhost\"\n",
    "IM.imdb['user'] = \"root\"\n",
    "IM.imdb['pass'] = \"root\"\n",
    "IM.imdb['dbname'] = \"IMDBmedia\"\n",
    "\n",
    "\n",
    "# IMDB dirs\n",
    "MovieCast = [\n",
    "    '/export/Movies'\n",
    "]\n",
    "\n",
    "# the dir under this one will be based on media type, then ! title of movie/video/series\n",
    "Root = '/export/MediaCast'\n",
    "\n",
    "ft.USB = Root\n",
    "\n",
    "ft.SD = '/export/Podcast'\n",
    "\n",
    "# title.episode.tsv\n",
    "# this table is basic, data only makes sence when joined with title.basic"
   ]
  },
  {
   "cell_type": "code",
   "execution_count": 2,
   "id": "59547ae8-286b-4e5f-ae2a-57272812673b",
   "metadata": {},
   "outputs": [],
   "source": [
    "def get_TV_name_year(name, year, MediaType, output=False):\n",
    "\n",
    "    DATA={}\n",
    "    for x in IM.get_tv_name_year_type(name, year, MediaType):\n",
    "        key = str(x[1])+\"x\"+str(x[2])\n",
    "        if output:\n",
    "            print(key + \" \" + x[3] + \" (\" + str(x[4]) + \") \" + \"\\n\\t\" + IM.IMDBurl(x[0]) + \"\\n\")\n",
    "\n",
    "        new = { \n",
    "            'tconst': x[0],\n",
    "            'S': x[1],\n",
    "            'E': x[2],\n",
    "            'title':x[3],\n",
    "            'year': x[4],\n",
    "            'minutes': x[5],\n",
    "            'url': IM.IMDBurl(x[0])\n",
    "        }\n",
    "        DATA[key] = new\n",
    "    return DATA"
   ]
  },
  {
   "cell_type": "code",
   "execution_count": 3,
   "id": "e4b09327-cbf9-4e1c-9265-fdbc68281218",
   "metadata": {},
   "outputs": [],
   "source": [
    "def get_imdb_file_tv(Dir):\n",
    " \n",
    "    show = ft.get_show(Dir)\n",
    "    year = ft.get_year(Dir)\n",
    "    F=ft.show_files(Dir, False)\n",
    "    SDB=IM.get_tv_name_year(show, year)\n",
    "    return SDB\n",
    "    #print(SDB)\n",
    "#    for x in SDB:\n",
    "#        key = str(x[1])+\"x\"+str(x[2])\n",
    "#        if len(F[key]) > 0:\n",
    "            \n",
    "#            F[key]['ID'] = x[0]\n",
    "#            F[key]['Ep'] = x[3]\n",
    "#            F[key]['Ep_year'] = str(x[4])\n",
    "#            F[key]['Ep_orig'] = x[5]\n",
    "#            F[key]['Ep_min'] = x[6]\n",
    "#            F[key]['Ep_url'] = IM.IMDBurl(x[0])\n",
    "#            F[key]['Ep_type'] = x[7]\n",
    "#            print(F[key])\n"
   ]
  },
  {
   "cell_type": "markdown",
   "id": "cbc48161-d4cb-4985-900d-32ec2c938891",
   "metadata": {},
   "source": [
    "### Files/Dir DB search:"
   ]
  },
  {
   "cell_type": "code",
   "execution_count": 6,
   "id": "50ec551f-2251-4638-aad4-f3a90102a371",
   "metadata": {},
   "outputs": [
    {
     "name": "stdout",
     "output_type": "stream",
     "text": [
      "Video Folder lookup for Series: \n"
     ]
    },
    {
     "data": {
      "application/vnd.jupyter.widget-view+json": {
       "model_id": "780cfdc6040f4d3da5d7076f52329215",
       "version_major": 2,
       "version_minor": 0
      },
      "text/plain": [
       "interactive(children=(Dropdown(description='Dir', options=(\"/export/Movies/Russia's War; Blood upon the Snow (…"
      ]
     },
     "metadata": {},
     "output_type": "display_data"
    }
   ],
   "source": [
    "# `series_list` (\n",
    "#`titleId`, `showId`, `show`, `title`, `year`, `showYear`, `S`, `E`, `type`,`showType`,\n",
    "#  `file`, `Dir`,`url`, `showUrl`\n",
    "\n",
    "def get_imdb_tv_show(ID, show, year, MediaType, Dir):\n",
    "    print (show, ' (',year,') - ',MediaType, ' - ', Dir)\n",
    "    Cast = ft.show_files(Dir)\n",
    "    #return Cast\n",
    "    InputList = []\n",
    "    MoveList = []\n",
    "    \n",
    "    for t in IM.get_tv_id(ID):\n",
    "        key = t[1] + \"x\" + t[2]\n",
    "        # fix this to change the dir to new dir/file\n",
    "        d = show + ' (' + year + ')'\n",
    "        f = key + ' - ' + t[3] + ' (' + t[4] + ')'\n",
    "        new_file = ft.new_file(MediaType, d, f )\n",
    "        new_dir = ft.new_dir(MediaType, d )\n",
    "        \n",
    "        MoveList.append( ( Cast[key]['file'], new_file ) )\n",
    "        InputList.append( ( t[0], ID, show, t[3], t[4], year, t[1], t[2], t[7], MediaType, new_file, new_dir, t[8], IM.IMDBurl(ID) ) )\n",
    "    \n",
    "def get_imdb_dir_tv(Dir):\n",
    "    IM.DF = False\n",
    "    show = ft.get_show(Dir)\n",
    "    year = ft.get_year(Dir)\n",
    "    DATA = {}\n",
    "    SDB=IM.get_imdb_dir_tv(show, year) \n",
    "    for x in SDB:\n",
    "        ID = x[0]\n",
    "        show = x[1]\n",
    "        year = x[2]\n",
    "        MediaType = x[4]\n",
    "        break;\n",
    "    interact_manual(get_imdb_tv_show, ID=[ ID ], show=[ show ], year= [ year ],MediaType = [MediaType], Dir=[Dir]);\n",
    "    \n",
    "\n",
    "\n",
    "print(\"Video Folder lookup for Series: \")\n",
    "interact_manual(get_imdb_dir_tv, Dir=ft.scan_TV(MovieCast));"
   ]
  },
  {
   "cell_type": "code",
   "execution_count": null,
   "id": "7c625e1e-3b80-41bb-a83a-dbcf645031a8",
   "metadata": {},
   "outputs": [],
   "source": []
  }
 ],
 "metadata": {
  "kernelspec": {
   "display_name": "Python 3 (ipykernel)",
   "language": "python",
   "name": "python3"
  },
  "language_info": {
   "codemirror_mode": {
    "name": "ipython",
    "version": 3
   },
   "file_extension": ".py",
   "mimetype": "text/x-python",
   "name": "python",
   "nbconvert_exporter": "python",
   "pygments_lexer": "ipython3",
   "version": "3.9.7"
  }
 },
 "nbformat": 4,
 "nbformat_minor": 5
}
