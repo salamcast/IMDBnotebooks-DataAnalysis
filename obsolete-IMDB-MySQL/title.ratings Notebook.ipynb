{
 "cells": [
  {
   "cell_type": "markdown",
   "id": "1464d0db",
   "metadata": {},
   "source": [
    "# title.ratings.tsv.gz \n",
    "\n",
    "https://datasets.imdbws.com/title.ratings.tsv.gz\n",
    "\n",
    "– Contains the IMDb rating and votes information for titles\n",
    "\n",
    "* tconst (string) - alphanumeric unique identifier of the title\n",
    "* averageRating – weighted average of all the individual user ratings\n",
    "* numVotes - number of votes the title has received\n",
    "\n",
    "```\n",
    "CREATE TABLE IF NOT EXISTS `title.ratings` (\n",
    "  `tconst` varchar(12) NOT NULL,\n",
    "  `averageRating` float DEFAULT NULL,\n",
    "  `numVotes` int(11) DEFAULT NULL\n",
    ") ENGINE=InnoDB DEFAULT CHARSET=utf8;\n",
    "```\n",
    "\n",
    "#### import the title.ratings.tsv file\n",
    "```\n",
    "load data infile '/export/title.ratings.tsv' \n",
    "    into table `title.ratings` \n",
    "    fields terminated by '\\t' \n",
    "    lines terminated by '\\n' \n",
    "    ignore 1 rows;\n",
    "```\n",
    "* Query OK, 1187033 rows affected (14.863 sec)         \n",
    "* Records: 1187033  Deleted: 0  Skipped: 0  Warnings: 0\n"
   ]
  }
 ],
 "metadata": {
  "kernelspec": {
   "display_name": "Python 3 (ipykernel)",
   "language": "python",
   "name": "python3"
  },
  "language_info": {
   "codemirror_mode": {
    "name": "ipython",
    "version": 3
   },
   "file_extension": ".py",
   "mimetype": "text/x-python",
   "name": "python",
   "nbconvert_exporter": "python",
   "pygments_lexer": "ipython3",
   "version": "3.9.6"
  }
 },
 "nbformat": 4,
 "nbformat_minor": 5
}
