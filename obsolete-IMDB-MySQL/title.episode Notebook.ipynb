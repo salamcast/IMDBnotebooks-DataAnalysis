{
 "cells": [
  {
   "cell_type": "markdown",
   "id": "2cc91680",
   "metadata": {},
   "source": [
    "# title.episode.tsv.gz \n",
    "\n",
    "https://datasets.imdbws.com/title.episode.tsv.gz\n",
    "\n",
    "– Contains the tv episode information. Fields include:\n",
    "\n",
    "* tconst (string) - alphanumeric identifier of episode\n",
    "* parentTconst (string) - alphanumeric identifier of the parent TV Series\n",
    "* seasonNumber (integer) – season number the episode belongs to\n",
    "* episodeNumber (integer) – episode number of the tconst in the TV series\n",
    "```\n",
    "CREATE TABLE IF NOT EXISTS `title.episode` (\n",
    "  `tconst` varchar(12) NOT NULL,\n",
    "  `parentTconst` varchar(12),\n",
    "  `seasonNumber` int(11) DEFAULT NULL,\n",
    "  `episodeNumber` int(11) DEFAULT NULL\n",
    ") ENGINE=InnoDB DEFAULT CHARSET=utf8;\n",
    "```\n",
    "#### import the title.episode.tsv file\n",
    "\n",
    "```\n",
    "load data infile '/export/title.episode.tsv' \n",
    "    into table `title.episode` \n",
    "    fields terminated by '\\t' \n",
    "    lines terminated by '\\n' \n",
    "    ignore 1 rows;\n",
    "```\n",
    "* Query OK, 6070588 rows affected (1 min 7.038 sec)    \n",
    "* Records: 6070588  Deleted: 0  Skipped: 0  Warnings: 0\n"
   ]
  },
  {
   "cell_type": "code",
   "execution_count": 1,
   "id": "04c668d5-6591-4a09-aef6-b6082b6c53af",
   "metadata": {},
   "outputs": [],
   "source": [
    "from ipywidgets import interact, interactive, fixed, interact_manual\n",
    "import ipywidgets as widgets\n",
    "# files\n",
    "import os\n",
    "import re\n",
    "\n",
    "import IMDBmedia as IM\n",
    "\n",
    "IM.imdb['host'] = \"localhost\"\n",
    "IM.imdb['user'] = \"root\"\n",
    "IM.imdb['pass'] = \"root\"\n",
    "IM.imdb['dbname'] = \"IMDBmedia\"\n",
    "\n",
    "TVCast = ['/export/Podcast' ]\n",
    "\n"
   ]
  },
  {
   "cell_type": "code",
   "execution_count": 2,
   "id": "1ae7b3f7-bb51-4ba5-81d7-237568e100c9",
   "metadata": {},
   "outputs": [
    {
     "data": {
      "application/vnd.jupyter.widget-view+json": {
       "model_id": "2afcfd0523154bc0a6c9e1157c9ac9e6",
       "version_major": 2,
       "version_minor": 0
      },
      "text/plain": [
       "interactive(children=(Dropdown(description='Dir', options=('/export/Podcast/short', '/export/Podcast/short/201…"
      ]
     },
     "metadata": {},
     "output_type": "display_data"
    }
   ],
   "source": [
    "\n",
    "interact_manual(IM.get_imdb_file_tv, Dir=IM.scan_TV(TVCast));"
   ]
  },
  {
   "cell_type": "code",
   "execution_count": 3,
   "id": "5e015e28-66b3-4b7e-bbbd-7da42d79220c",
   "metadata": {},
   "outputs": [
    {
     "data": {
      "application/vnd.jupyter.widget-view+json": {
       "model_id": "f026a343275d490a8e5eed8df39a9d1b",
       "version_major": 2,
       "version_minor": 0
      },
      "text/plain": [
       "interactive(children=(Dropdown(description='Dir', options=('/export/Podcast/short', '/export/Podcast/short/201…"
      ]
     },
     "metadata": {},
     "output_type": "display_data"
    }
   ],
   "source": [
    "interact_manual(IM.show_files, Dir=IM.scan_TV(TVCast), output=True);"
   ]
  },
  {
   "cell_type": "code",
   "execution_count": null,
   "id": "788ae30d-c167-4be0-8b5a-ef80a14d999b",
   "metadata": {},
   "outputs": [],
   "source": []
  }
 ],
 "metadata": {
  "kernelspec": {
   "display_name": "Python 3 (ipykernel)",
   "language": "python",
   "name": "python3"
  },
  "language_info": {
   "codemirror_mode": {
    "name": "ipython",
    "version": 3
   },
   "file_extension": ".py",
   "mimetype": "text/x-python",
   "name": "python",
   "nbconvert_exporter": "python",
   "pygments_lexer": "ipython3",
   "version": "3.9.7"
  }
 },
 "nbformat": 4,
 "nbformat_minor": 5
}
