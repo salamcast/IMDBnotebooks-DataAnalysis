{
 "cells": [
  {
   "cell_type": "markdown",
   "id": "10566910",
   "metadata": {},
   "source": [
    "## Table structure for table `title.akas`\n",
    "\n",
    "https://datasets.imdbws.com/title.akas.tsv.gz\n",
    "\n",
    "Contains the following information for titles:\n",
    "\n",
    "* titleId (string)\n",
    "- a tconst, an alphanumeric unique identifier of the title\n",
    "* ordering (integer)\n",
    "– a number to uniquely identify rows for a given titleId\n",
    "* title (string)\n",
    "– the localized title\n",
    "* region (string)\n",
    "- the region for this version of the title\n",
    "* language (string)\n",
    "- the language of the title\n",
    "* types (array)\n",
    "- Enumerated set of attributes for this alternative title. One or more of the following: \"alternative\", \"dvd\", \"festival\", \"tv\", \"video\", \"working\", \"original\", \"imdbDisplay\". \n",
    "New values may be added in the future without warning\n",
    "* attributes (array)\n",
    "- Additional terms to describe this alternative title, not enumerated\n",
    "* isOriginalTitle (boolean)\n",
    "– 0: not original title; 1: original title\n",
    "```\n",
    "CREATE TABLE IF NOT EXISTS  `title.akas` (\n",
    "  `titleId` varchar(12) NOT NULL,\n",
    "  `ordering` int(11) NOT NULL,\n",
    "  `title` text NOT NULL,\n",
    "  `region` varchar(4) ,\n",
    "  `language` varchar(4) ,\n",
    "  `types` varchar(45),\n",
    "  `attributes` varchar(128) ,\n",
    "  `isOriginalTitle` tinyint(1) DEFAULT '0'\n",
    ") ENGINE=InnoDB DEFAULT CHARSET=utf8;\n",
    "```\n",
    "#### import the title.akas.tsv file\n",
    "```\n",
    "load data infile '/export/title.akas.tsv' \n",
    "    into table `title.akas` \n",
    "    fields terminated by '\\t' \n",
    "    lines terminated by '\\n' \n",
    "    ignore 1 rows;\n",
    "```\n",
    "* Query OK, 29140309 rows affected (6 min 50.511 sec)  \n",
    "* Records: 29140309  Deleted: 0  Skipped: 0  Warnings: 0\n"
   ]
  }
 ],
 "metadata": {
  "kernelspec": {
   "display_name": "Python 3 (ipykernel)",
   "language": "python",
   "name": "python3"
  },
  "language_info": {
   "codemirror_mode": {
    "name": "ipython",
    "version": 3
   },
   "file_extension": ".py",
   "mimetype": "text/x-python",
   "name": "python",
   "nbconvert_exporter": "python",
   "pygments_lexer": "ipython3",
   "version": "3.9.6"
  }
 },
 "nbformat": 4,
 "nbformat_minor": 5
}
