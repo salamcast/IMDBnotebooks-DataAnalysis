{
 "cells": [
  {
   "cell_type": "markdown",
   "id": "622357b7",
   "metadata": {},
   "source": [
    "# title.principals.tsv.gz \n",
    "\n",
    "https://datasets.imdbws.com/title.principals.tsv.gz\n",
    "\n",
    "– Contains the principal cast/crew for titles\n",
    "\n",
    "* tconst (string) - alphanumeric unique identifier of the title\n",
    "* ordering (integer) – a number to uniquely identify rows for a given titleId\n",
    "* nconst (string) - alphanumeric unique identifier of the name/person\n",
    "* category (string) - the category of job that person was in\n",
    "* job (string) - the specific job title if applicable, else '\\N'\n",
    "* characters (string) - the name of the character played if applicable, else '\\N'\n",
    "\n",
    "```\n",
    "CREATE TABLE `title.principals` (\n",
    "  `tconst` varchar(12) NOT NULL,\n",
    "  `ordering` int(11) NOT NULL,\n",
    "  `nconst` varchar(12),\n",
    "  `category` text,\n",
    "  `job` text,\n",
    "  `characters` text\n",
    ") ENGINE=InnoDB DEFAULT CHARSET=utf8;\n",
    "```\n",
    "#### import the title.principals.tsv file\n",
    "```\n",
    "load data infile '/export/title.principals.tsv' \n",
    "    into table `title.principals` \n",
    "    fields terminated by '\\t' \n",
    "    lines terminated by '\\n' \n",
    "    ignore 1 rows;\n",
    "```\n",
    "* Query OK, 46817295 rows affected (10 min 34.591 sec)\n",
    "* Records: 46817295  Deleted: 0  Skipped: 0  Warnings: 0\n"
   ]
  },
  {
   "cell_type": "code",
   "execution_count": 11,
   "id": "886dd25a-3b43-4490-be8e-626f104fdbbe",
   "metadata": {},
   "outputs": [],
   "source": [
    "import mysql.connector\n",
    "# widgets\n",
    "from ipywidgets import interact, interactive, fixed, interact_manual\n",
    "import ipywidgets as widgets\n",
    "# files\n",
    "import os\n",
    "import re\n",
    "import shutil\n",
    "import urllib.parse\n",
    "\n",
    " \n",
    "\n",
    "import IMDBmedia as IM\n",
    "\n",
    "IM.imdb['host'] = \"localhost\"\n",
    "IM.imdb['user'] = \"root\"\n",
    "IM.imdb['pass'] = \"root\"\n",
    "IM.imdb['dbname'] = \"IMDBmedia\""
   ]
  },
  {
   "cell_type": "code",
   "execution_count": 32,
   "id": "a764908a-353f-41ee-80ee-d6e2aa8fed6b",
   "metadata": {},
   "outputs": [
    {
     "name": "stdout",
     "output_type": "stream",
     "text": [
      "('tt0000005', 1, 'nm0443482', 'actor', None, '[\"Blacksmith\"]')\n",
      "('tt0000005', 2, 'nm0653042', 'actor', None, '[\"Assistant\"]')\n",
      "('tt0000007', 1, 'nm0179163', 'actor', None, None)\n",
      "('tt0000007', 2, 'nm0183947', 'actor', None, None)\n",
      "('tt0000008', 1, 'nm0653028', 'actor', None, '[\"Sneezing Man\"]')\n",
      "('tt0000009', 1, 'nm0063086', 'actress', None, '[\"Miss Geraldine Holbrook (Miss Jerry)\"]')\n",
      "('tt0000009', 2, 'nm0183823', 'actor', None, '[\"Mr. Hamilton\"]')\n",
      "('tt0000009', 3, 'nm1309758', 'actor', None, '[\"Chauncey Depew - the Director of the New York Central Railroad\"]')\n",
      "('tt0000011', 1, 'nm3692297', 'actor', None, '[\"Acrobats\"]')\n",
      "('tt0000014', 1, 'nm0166380', 'actor', None, '[\"The Gardener\"]')\n",
      "('tt0000014', 2, 'nm0244989', 'actor', None, '[\"The Boy\"]')\n",
      "('tt0000017', 1, 'nm3691272', 'actor', None, '[\"The boy\"]')\n",
      "('tt0000017', 2, 'nm3692829', 'actress', None, '[\"The girl\"]')\n",
      "('tt0000018', 1, 'nm3692071', 'actor', None, '[\"The Boxer\"]')\n",
      "('tt0000026', 1, 'nm2350007', 'actor', None, '[\"Valet\"]')\n"
     ]
    }
   ],
   "source": [
    "sql=\"\"\"\n",
    "SELECT * FROM `title.principals` \n",
    "WHERE category LIKE 'act%'\n",
    "LIMIT 15;\n",
    "\"\"\"\n",
    "val=()\n",
    "List = [\n",
    "    ('Vin Diesel', 'nm0004874' ),\n",
    "    ('Jet Li', 'nm0001472'),\n",
    "    ('Brad Pitt', 'nm0000093')\n",
    "]\n",
    "SDB=IM.search_db(sql, val)\n",
    "for x in SDB:\n",
    "    List.append( ( x[2], x[2] ) )\n",
    "    print(x)"
   ]
  },
  {
   "cell_type": "markdown",
   "id": "e4da0ee7-26da-450b-a220-1659faa634f3",
   "metadata": {},
   "source": [
    "# Example of movies\n",
    "Using the `nconst` for Jackie Chan, this will list all his movies as an Actor"
   ]
  },
  {
   "cell_type": "code",
   "execution_count": 31,
   "id": "549bc2c1-0d56-4be1-b06b-a59ae694dff4",
   "metadata": {},
   "outputs": [
    {
     "data": {
      "application/vnd.jupyter.widget-view+json": {
       "model_id": "18f42f08a94143ca9d61cc219f66d2e5",
       "version_major": 2,
       "version_minor": 0
      },
      "text/plain": [
       "interactive(children=(Dropdown(description='Act', options=(('Vin Diesel', 'nm0004874'), ('Jet Li', 'nm0001472'…"
      ]
     },
     "metadata": {},
     "output_type": "display_data"
    }
   ],
   "source": [
    "def check_my_list(Act):\n",
    "    print(Act)\n",
    "    sql=\"\"\"\n",
    "SELECT \n",
    "    P.tconst as ID, ML.title, ML.year, ML.file, ML.url\n",
    "FROM `title.principals` P, movies_list ML\n",
    "WHERE ML.titleId = P.tconst \n",
    "    AND P.nconst = '\"\"\" + Act + \"'\"\n",
    "    val=(Act)\n",
    "    SDB=IM.search_db(sql, val)\n",
    "    r = len(SDB)\n",
    "    if (r > 0):\n",
    "        for x in SDB:\n",
    "            print(x)\n",
    "    else:\n",
    "        print(\"No records found\")\n",
    "interact_manual(check_my_list, Act=List);"
   ]
  },
  {
   "cell_type": "markdown",
   "id": "0ae7b8aa-9f0e-4ce6-8eca-ada448a2c763",
   "metadata": {},
   "source": [
    "# Exampes of quries that didn't work out\n",
    "These quries produced incorrect results and took a lot of time to execute.\n",
    "\n",
    "format of the data bellow\n",
    "\n",
    "* SQL query\n",
    "* row (time)"
   ]
  },
  {
   "cell_type": "markdown",
   "id": "ebf2a81d-869e-4f24-8da4-2e0bb85d734b",
   "metadata": {},
   "source": [
    "```\n",
    "SELECT DISTINCT     N.nconst, N.primaryName, P.category, count(P.tconst)  FROM `title.principals` P, `name.basics` N WHERE P.nconst = N.nconst AND P.tconst IN (Select titleID from movies_list) Group by P.tconst Having count(P.tconst) > 3 Order by count(P.tconst) DESC;\n",
    "```\n",
    "**417 rows in set (1 hour 33 min 8.305 sec)**\n",
    "\n",
    "```\n",
    "SELECT DISTINCT     N.nconst, N.primaryName, count(P.tconst)  FROM `title.principals` P, `name.basics` N  WHERE P.nconst = N.nconst AND P.tconst IN (Select titleID from movies_list) AND (P.category = 'act%' OR  P.category = 'self') Group by P.tconst Having count(P.tconst) > 3 Order by count(P.tconst) DESC;\n",
    "```\n",
    "**9 rows in set (20 min 25.451 sec)**\n",
    "```\n",
    "SELECT  N.nconst, N.primaryName, count(P.tconst)  FROM `title.principals` P, `name.basics` N  WHERE P.nconst = N.nconst AND P.tconst IN (Select titleID from movies_list) AND (P.category = 'act%' OR  P.category = 'self') Group by P.tconst Having count(P.tconst) > 3 Order by count(P.tconst) DESC;\n",
    "```\n",
    "**10 rows in set (20 min 31.821 sec)**\n",
    "```\n",
    " SELECT  N.nconst, N.primaryName, count(M.titleID)  FROM `title.principals` P, `name.basics` N, movies_list M  WHERE P.nconst = N.nconst AND P.tconst = M.titleID AND (P.category = 'act%' OR  P.category = 'self') Group by N.primaryName Having count(M.titleID) > 3 Order by count(M.titleID) DESC;\n",
    "```\n",
    "**Empty set (21 min 17.782 sec)**\n",
    "```\n",
    "SELECT  N.nconst, N.primaryName, M.file  FROM `title.principals` P, `name.basics` N, movies_list M  WHERE P.nconst = N.nconst AND P.tconst = M.titleID AND (P.category = 'act%' OR  P.category = 'self') ;\n",
    "```\n",
    "**54 rows in set (21 min 41.241 sec)**\n"
   ]
  },
  {
   "cell_type": "code",
   "execution_count": 35,
   "id": "49720e19-be50-4fa2-8d87-10fc4ecfb6e1",
   "metadata": {},
   "outputs": [
    {
     "name": "stdout",
     "output_type": "stream",
     "text": [
      "('2021',)\n",
      "('2020',)\n",
      "('2019',)\n",
      "('2018',)\n",
      "('2017',)\n",
      "('2016',)\n",
      "('2015',)\n",
      "('2014',)\n",
      "('2013',)\n",
      "('2012',)\n",
      "('2011',)\n",
      "('2010',)\n",
      "('2009',)\n",
      "('2008',)\n",
      "('2007',)\n"
     ]
    }
   ],
   "source": [
    "sql=\"\"\"\n",
    "SELECT DISTINCT year FROM movies_list \n",
    "Order by year DESC\n",
    "LIMIT 15;\n",
    "\"\"\"\n",
    "val=()\n",
    "Years = []\n",
    "SDB=IM.search_db(sql, val)\n",
    "for x in SDB:\n",
    "    Years.append( x[0] )\n",
    "    print(x)"
   ]
  },
  {
   "cell_type": "code",
   "execution_count": 41,
   "id": "0db885dc-0f01-4858-8f19-494fba78d462",
   "metadata": {},
   "outputs": [
    {
     "data": {
      "application/vnd.jupyter.widget-view+json": {
       "model_id": "08b93d2d629741ee9f7332e07636355d",
       "version_major": 2,
       "version_minor": 0
      },
      "text/plain": [
       "interactive(children=(Dropdown(description='Year', options=('2021', '2020', '2019', '2018', '2017', '2016', '2…"
      ]
     },
     "metadata": {},
     "output_type": "display_data"
    }
   ],
   "source": [
    "def movies_by_year(Year):\n",
    "    sql=\"SELECT * FROM movies_list WHERE year LIKE \" + Year\n",
    "    val=(Year)\n",
    "    SDB=IM.search_db(sql, val)\n",
    "    r = len(SDB)\n",
    "    if (r > 0):\n",
    "        for x in SDB:\n",
    "            Movies.append( ( x[1] + \" (\" + x[2] + \")\", x[0] ) )\n",
    "            print(x[1] + \" (\" + x[2] + \")\")\n",
    "    else:\n",
    "        print(\"No Movies found\")\n",
    "Movies = []\n",
    "interact_manual(movies_by_year, Year=Years);"
   ]
  },
  {
   "cell_type": "code",
   "execution_count": 47,
   "id": "456def35-1a5c-4585-b5f4-7d4d52a31ebc",
   "metadata": {},
   "outputs": [
    {
     "data": {
      "application/vnd.jupyter.widget-view+json": {
       "model_id": "02de422f704144d287f099e1269b905e",
       "version_major": 2,
       "version_minor": 0
      },
      "text/plain": [
       "interactive(children=(Dropdown(description='Movie', options=(('Blended (2014)', 'tt1086772'), ('RoboCop (2014)…"
      ]
     },
     "metadata": {},
     "output_type": "display_data"
    }
   ],
   "source": [
    "def actors_from_movies(Movie):\n",
    "    print(Movie)\n",
    "    sql=\"SELECT  N.nconst, N.primaryName, P.category FROM `name.basics` N INNER JOIN `title.principals` P ON P.nconst = N.nconst WHERE P.tconst LIKE '\" + Movie + \"';\" \n",
    "    val=(Movie)\n",
    "    SDB=IM.search_db(sql, val)\n",
    "    r = len(SDB)\n",
    "    if (r > 0):\n",
    "        for x in SDB:\n",
    "            Actors.append( ( x[1] , x[0] ) )\n",
    "            print(x[1],\"\\nhttps://www.imdb.com/name/\" + x[0] + \"/\")\n",
    "    else:\n",
    "        print(\"No Acters found\")\n",
    "Actors = []\n",
    "interact_manual(actors_from_movies, Movie=Movies);"
   ]
  },
  {
   "cell_type": "code",
   "execution_count": null,
   "id": "e788cd01-face-4f72-83b6-cbf7a92f7c1b",
   "metadata": {},
   "outputs": [],
   "source": [
    "sql = \"\"\"SELECT DISTINCT N.nconst, N.primaryName, count(P.tconst) \n",
    "FROM `title.principals` P, `name.basics` N \n",
    "WHERE P.nconst = N.nconst \n",
    "    AND P.category Like 'Act%' \n",
    "    AND P.tconst IN (Select titleID from movies_list) \n",
    "Group by N.nconst \n",
    "Having count(P.tconst) > 3 \n",
    "Order by count(P.tconst) DESC\n",
    "\"\"\""
   ]
  },
  {
   "cell_type": "code",
   "execution_count": null,
   "id": "015c303d-32e8-47ee-81eb-9662a04b8377",
   "metadata": {},
   "outputs": [],
   "source": []
  }
 ],
 "metadata": {
  "kernelspec": {
   "display_name": "Python 3 (ipykernel)",
   "language": "python",
   "name": "python3"
  },
  "language_info": {
   "codemirror_mode": {
    "name": "ipython",
    "version": 3
   },
   "file_extension": ".py",
   "mimetype": "text/x-python",
   "name": "python",
   "nbconvert_exporter": "python",
   "pygments_lexer": "ipython3",
   "version": "3.9.7"
  }
 },
 "nbformat": 4,
 "nbformat_minor": 5
}
