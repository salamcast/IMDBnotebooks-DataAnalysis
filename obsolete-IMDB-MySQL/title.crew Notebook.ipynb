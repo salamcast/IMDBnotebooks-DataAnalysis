{
 "cells": [
  {
   "cell_type": "markdown",
   "id": "3e162f5f",
   "metadata": {},
   "source": [
    "## title.crew.tsv.gz \n",
    "\n",
    "https://datasets.imdbws.com/title.crew.tsv.gz\n",
    "\n",
    "Contains the director and writer information for all the titles in IMDb. Fields include:\n",
    "\n",
    "* tconst (string)\n",
    "- alphanumeric unique identifier of the title\n",
    "* directors (array of nconsts)\n",
    "- director(s) of the given title\n",
    "* writers (array of nconsts)\n",
    "– writer(s) of the given title\n",
    "\n",
    "```\n",
    "CREATE TABLE IF NOT EXISTS `title.crew` (\n",
    "  `tconst` varchar(12) NOT NULL,\n",
    "  `directors` text,\n",
    "  `writers` text\n",
    ") ENGINE=InnoDB DEFAULT CHARSET=utf8;\n",
    "```\n",
    "#### import the title.crew.tsv file\n",
    "\n",
    "```\n",
    "load data infile '/export/title.crew.tsv' \n",
    "    into table `title.crew` \n",
    "    fields terminated by '\\t' \n",
    "    lines terminated by '\\n' \n",
    "    ignore 1 rows;\n",
    "```\n",
    "* Query OK, 8273735 rows affected (1 min 40.284 sec)   \n",
    "* Records: 8273735  Deleted: 0  Skipped: 0  Warnings: 0"
   ]
  }
 ],
 "metadata": {
  "kernelspec": {
   "display_name": "Python 3 (ipykernel)",
   "language": "python",
   "name": "python3"
  },
  "language_info": {
   "codemirror_mode": {
    "name": "ipython",
    "version": 3
   },
   "file_extension": ".py",
   "mimetype": "text/x-python",
   "name": "python",
   "nbconvert_exporter": "python",
   "pygments_lexer": "ipython3",
   "version": "3.9.6"
  }
 },
 "nbformat": 4,
 "nbformat_minor": 5
}
