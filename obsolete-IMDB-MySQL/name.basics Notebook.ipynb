{
 "cells": [
  {
   "cell_type": "markdown",
   "id": "ca49b2e0",
   "metadata": {},
   "source": [
    "# name.basics.tsv.gz \n",
    "\n",
    "https://datasets.imdbws.com/name.basics.tsv.gz\n",
    "\n",
    "– Contains the following information for names:\n",
    "\n",
    "* nconst (string) - alphanumeric unique identifier of the name/person\n",
    "* primaryName (string)– name by which the person is most often credited\n",
    "* birthYear – in YYYY format\n",
    "* deathYear – in YYYY format if applicable, else '\\N'\n",
    "* primaryProfession (array of strings)– the top-3 professions of the person\n",
    "* knownForTitles (array of tconsts) – titles the person is known for\n",
    "\n",
    "```\n",
    "CREATE TABLE IF NOT EXISTS `name.basics` (\n",
    "  `nconst` varchar(12) NOT NULL,\n",
    "  `primaryName` text NOT NULL,\n",
    "  `birthYear` varchar(4) DEFAULT NULL,\n",
    "  `deathYear` varchar(4) DEFAULT '\\\\N',\n",
    "  `primaryProfession` text,\n",
    "  `knownForTitles` text\n",
    ") ENGINE=InnoDB DEFAULT CHARSET=utf8;\n",
    "```\n",
    "\n",
    "#### import the name.basics.tsv file\n",
    "```\n",
    "load data infile '/export/name.basics.tsv' \n",
    "    into table `name.basics` \n",
    "    fields terminated by '\\t' \n",
    "    lines terminated by '\\n' \n",
    "    ignore 1 rows;\n",
    "```\n",
    "* Query OK, 11231957 rows affected (3 min 15.941 sec)  \n",
    "* Records: 11231957  Deleted: 0  Skipped: 0  Warnings: 0\n"
   ]
  },
  {
   "cell_type": "code",
   "execution_count": 1,
   "id": "02d586cb-7f24-4cb4-b177-dd1e06145ca7",
   "metadata": {},
   "outputs": [],
   "source": [
    "import mysql.connector\n",
    "# widgets\n",
    "from ipywidgets import interact, interactive, fixed, interact_manual\n",
    "import ipywidgets as widgets\n",
    "# files\n",
    "import os\n",
    "import re\n",
    "import shutil\n",
    "import urllib.parse\n",
    "\n",
    " \n",
    "\n",
    "import IMDBmedia as IM\n",
    "\n",
    "IM.imdb['host'] = \"localhost\"\n",
    "IM.imdb['user'] = \"root\"\n",
    "IM.imdb['pass'] = \"root\"\n",
    "IM.imdb['dbname'] = \"IMDBmedia\""
   ]
  },
  {
   "cell_type": "code",
   "execution_count": 4,
   "id": "b8013fa0-6d6e-45f6-a5a0-0dae43060faa",
   "metadata": {},
   "outputs": [
    {
     "data": {
      "text/plain": [
       "[('nm0000001',\n",
       "  'Fred Astaire',\n",
       "  '1899',\n",
       "  '1987',\n",
       "  'soundtrack,actor,miscellaneous',\n",
       "  'tt0072308,tt0031983,tt0050419,tt0053137'),\n",
       " ('nm0000002',\n",
       "  'Lauren Bacall',\n",
       "  '1924',\n",
       "  '2014',\n",
       "  'actress,soundtrack',\n",
       "  'tt0037382,tt0117057,tt0071877,tt0038355'),\n",
       " ('nm0000003',\n",
       "  'Brigitte Bardot',\n",
       "  '1934',\n",
       "  None,\n",
       "  'actress,soundtrack,music_department',\n",
       "  'tt0056404,tt0049189,tt0057345,tt0054452'),\n",
       " ('nm0000004',\n",
       "  'John Belushi',\n",
       "  '1949',\n",
       "  '1982',\n",
       "  'actor,soundtrack,writer',\n",
       "  'tt0080455,tt0078723,tt0072562,tt0077975'),\n",
       " ('nm0000005',\n",
       "  'Ingmar Bergman',\n",
       "  '1918',\n",
       "  '2007',\n",
       "  'writer,director,actor',\n",
       "  'tt0083922,tt0060827,tt0050986,tt0050976')]"
      ]
     },
     "execution_count": 4,
     "metadata": {},
     "output_type": "execute_result"
    }
   ],
   "source": [
    "sql=\"\"\"\n",
    "SELECT * FROM `name.basics` LIMIT 5;\n",
    "\"\"\"\n",
    "val=()\n",
    "SDB=IM.search_db(sql, val)\n",
    "SDB"
   ]
  },
  {
   "cell_type": "markdown",
   "id": "0ec0e596-f41e-43ab-9329-738e5c62a894",
   "metadata": {},
   "source": [
    "# If you look at the example bellow\n",
    "I have made an example query for Jackie Chan, he has done many movies in USA and Hong Kong, more than this qurey lists `knownForTitles` field."
   ]
  },
  {
   "cell_type": "code",
   "execution_count": 3,
   "id": "27fb2762-5367-4b55-8b20-ade6af351339",
   "metadata": {},
   "outputs": [
    {
     "data": {
      "text/plain": [
       "[('nm0000329',\n",
       "  'Jackie Chan',\n",
       "  '1954',\n",
       "  None,\n",
       "  'producer,actor,stunts',\n",
       "  'tt0127357,tt0120812,tt0089374,tt0266915'),\n",
       " ('nm10573924', 'Jackie Chan', None, None, '', None),\n",
       " ('nm11591426', 'Jackie Chan', None, None, 'sound_department', 'tt12332324'),\n",
       " ('nm12671651', 'Jackie Chan', None, None, 'actor', 'tt14810836'),\n",
       " ('nm1410309',\n",
       "  'Jackie Chan',\n",
       "  None,\n",
       "  None,\n",
       "  'miscellaneous,editorial_department,soundtrack',\n",
       "  'tt3672840,tt0770472'),\n",
       " ('nm6095679', 'Jackie Chan', None, None, 'actress', 'tt3341184'),\n",
       " ('nm8871002', 'Jackie Chan', None, None, 'miscellaneous', 'tt0386977'),\n",
       " ('nm9552111', 'Jackie Chan', None, None, 'actor', None)]"
      ]
     },
     "execution_count": 3,
     "metadata": {},
     "output_type": "execute_result"
    }
   ],
   "source": [
    "sql=\"\"\"\n",
    "SELECT * FROM `name.basics` WHERE primaryName = 'Jackie Chan';\n",
    "\"\"\"\n",
    "val=()\n",
    "SDB=IM.search_db(sql, val)\n",
    "SDB"
   ]
  },
  {
   "cell_type": "code",
   "execution_count": null,
   "id": "b429009b-8ebb-4671-b839-f1ead67ba701",
   "metadata": {},
   "outputs": [],
   "source": []
  }
 ],
 "metadata": {
  "kernelspec": {
   "display_name": "Python 3 (ipykernel)",
   "language": "python",
   "name": "python3"
  },
  "language_info": {
   "codemirror_mode": {
    "name": "ipython",
    "version": 3
   },
   "file_extension": ".py",
   "mimetype": "text/x-python",
   "name": "python",
   "nbconvert_exporter": "python",
   "pygments_lexer": "ipython3",
   "version": "3.9.7"
  }
 },
 "nbformat": 4,
 "nbformat_minor": 5
}
